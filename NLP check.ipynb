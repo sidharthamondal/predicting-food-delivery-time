{
 "cells": [
  {
   "cell_type": "code",
   "execution_count": 1,
   "metadata": {},
   "outputs": [],
   "source": [
    "import pandas as pd \n",
    "import numpy as np\n",
    "from sklearn.preprocessing import LabelEncoder\n",
    "import re"
   ]
  },
  {
   "cell_type": "code",
   "execution_count": 2,
   "metadata": {},
   "outputs": [],
   "source": [
    "df_train = pd.read_excel(\"../Raw_data/Data_Train.xlsx\")\n",
    "df_test = pd.read_excel(\"../Raw_data/Data_Test.xlsx\")"
   ]
  },
  {
   "cell_type": "code",
   "execution_count": 3,
   "metadata": {},
   "outputs": [
    {
     "name": "stderr",
     "output_type": "stream",
     "text": [
      "/home/sidhartha/anaconda3/lib/python3.7/site-packages/pandas/core/frame.py:7123: FutureWarning: Sorting because non-concatenation axis is not aligned. A future version\n",
      "of pandas will change to not sort by default.\n",
      "\n",
      "To accept the future behavior, pass 'sort=False'.\n",
      "\n",
      "To retain the current behavior and silence the warning, pass 'sort=True'.\n",
      "\n",
      "  sort=sort,\n"
     ]
    }
   ],
   "source": [
    "df_full = df_train.append(df_test)"
   ]
  },
  {
   "cell_type": "code",
   "execution_count": 4,
   "metadata": {},
   "outputs": [],
   "source": [
    "df_full['Restaurant_name'] = df_full.Restaurant.apply(lambda x: x.split(\"_\")[1])"
   ]
  },
  {
   "cell_type": "code",
   "execution_count": 6,
   "metadata": {},
   "outputs": [],
   "source": [
    "location_encode = LabelEncoder()\n",
    "df_full['transformed_location'] = location_encode.fit_transform(df_full.Location)"
   ]
  },
  {
   "cell_type": "code",
   "execution_count": 7,
   "metadata": {},
   "outputs": [],
   "source": [
    "city = {\"FTI College, Law College Road, Pune\":\"Pune\",\n",
    " \"Sector 3, Marathalli\":\"Bangalore\",\n",
    " \"Mumbai Central\":\"Mumbai\",\n",
    "\"Sector 1, Noida\":\"Delhi\",\n",
    " \"Rmz Centennial, I Gate, Whitefield\":\"Bangalore\",\n",
    " \"Delhi University-GTB Nagar\":\"Delhi\",\n",
    "\"Yerawada, Pune, Maharashtra\":\"Pune\",\n",
    " \"Delhi Administration Flats, Timarpur\":\"Delhi\",\n",
    " \"Moulali, Kolkata\":\"Kolkata\",\n",
    "\"Dockyard Road, Mumbai CST Area\":\"Mumbai\",\n",
    " \"Pune University\":\"Pune\",\n",
    " \"Gora Bazar, Rajbari, North Dumdum, Kolkata\":\"Kolkata\",\n",
    "\"D-Block, Sector 63, Noida\":\"Delhi\",\n",
    " \"Sector 14, Noida\":\"Delhi\",\n",
    " \"Mico Layout, Stage 2, BTM Layout,Bangalore\":\"Bangalore\",\n",
    "\"Laxman Vihar Industrial Area, Sector 3A, Gurgoan\":\"Gurgoan\",\n",
    " \"Tiretti, Kolkata\":\"Kolkata\",\n",
    " \"Sandhurst Road, Mumbai CST Area\":\"Mumbai\",\n",
    " \"MG Road, Pune\":\"Pune\",\n",
    " \"Hyderabad Public School, Begumpet\":\"Hyderabad\",\n",
    "\"Majestic\":\"Bangalore\",\n",
    " \"Chandni Chowk, Kolkata\":\"Kolkata\",\n",
    " \"Delhi High Court, India Gate\":\"Delhi\",\n",
    "\"Chatta Bazaar, Malakpet, Hyderabad\":\"Hyderabad\",\n",
    " \"Sector 63A,Gurgaon\":\"Gurgaon\",\n",
    " \"Delhi Cantt.\":\"Delhi\",\n",
    "\"Tejas Nagar Colony, Wadala West, Mumbai\":\"Mumbai\",\n",
    " \"Babarpur, New Delhi, Delhi\":\"Delhi\",\n",
    "\"Nathan Road, Mangaldas Road, Pune\":\"Pune\",\n",
    " \"Panjetan Colony, Malakpet, Hyderabad\":\"Hyderabad\",\n",
    "\"Raja Bazar, Kolkata\":\"Kolkata\",\n",
    " \"Jaya Nagar, Saidabad, Hyderabad\":\"Hyderabad\",\n",
    " \"Noorkhan Bazaar, Malakpet, Hyderabad\":\"Hyderabad\",\n",
    "\"Musi Nagar, Malakpet, Hyderabad\":\"Hyderabad\",\n",
    " \"BTM Layout 1, Electronic City\":\"Bangalore\"}\n"
   ]
  },
  {
   "cell_type": "code",
   "execution_count": 8,
   "metadata": {},
   "outputs": [],
   "source": [
    "df_full['City'] = df_full.Location.map(city)\n",
    "city_enc =LabelEncoder()\n",
    "df_full['City'] = city_enc.fit_transform(df_full.City)\n",
    "df_full['Count_cuisins'] = df_full.Cuisines.apply(lambda x: len(x.split(\",\")))"
   ]
  },
  {
   "cell_type": "code",
   "execution_count": 9,
   "metadata": {},
   "outputs": [],
   "source": [
    "cuisines = []\n",
    "for i in df_full.Cuisines.values:\n",
    "    try:\n",
    "        cuisines.append(i.split(\",\"))\n",
    "    except:\n",
    "        cuisines.append(i)"
   ]
  },
  {
   "cell_type": "code",
   "execution_count": 10,
   "metadata": {},
   "outputs": [],
   "source": [
    "cuisines_cleaned = []\n",
    "for i in cuisines:\n",
    "    cuisines_cleaned+=i"
   ]
  },
  {
   "cell_type": "code",
   "execution_count": 11,
   "metadata": {},
   "outputs": [],
   "source": [
    "final_cuisins = []\n",
    "for i in list(set(cuisines_cleaned)):\n",
    "    text = re.findall(r'\\w+',i)\n",
    "    text = (\" \").join(text)\n",
    "    final_cuisins.append(text)"
   ]
  },
  {
   "cell_type": "code",
   "execution_count": 12,
   "metadata": {},
   "outputs": [],
   "source": [
    "map_dict = dict(zip(set(final_cuisins),[i for i in range (len(set(final_cuisins)))]))"
   ]
  },
  {
   "cell_type": "code",
   "execution_count": 30,
   "metadata": {},
   "outputs": [],
   "source": [
    "def cuisine_clear(cuisine):\n",
    "    global map_dict\n",
    "    cuisines = []\n",
    "    try:\n",
    "        cuisines.append(cuisine.split(\",\"))\n",
    "    except:\n",
    "        cuisines.append(cuisine)\n",
    "    \n",
    "    cuisines_cleaned = []\n",
    "    for i in cuisines:\n",
    "        cuisines_cleaned+=i\n",
    "    final_cuisins = []\n",
    "    for i in list(set(cuisines_cleaned)):\n",
    "        text = re.findall(r'\\w+',i)\n",
    "        text = (\" \").join(text)\n",
    "        \n",
    "        final_cuisins.append(text)\n",
    "    \n",
    "    return (\",\").join(final_cuisins)"
   ]
  },
  {
   "cell_type": "code",
   "execution_count": 31,
   "metadata": {},
   "outputs": [],
   "source": [
    "df_full['Cuisines_enc'] = df_full.Cuisines.apply(cuisine_clear)"
   ]
  },
  {
   "cell_type": "code",
   "execution_count": 36,
   "metadata": {},
   "outputs": [
    {
     "data": {
      "text/plain": [
       "array(['Rolls,Fast Food,Burger,Wraps,Salad', 'Desserts,Ice Cream',\n",
       "       'Fast Food,Street Food,Italian', ...,\n",
       "       'North Indian,Chinese,Japanese',\n",
       "       'Italian,Continental,Healthy Food,Desserts,Asian',\n",
       "       'Rolls,North Indian,Continental,Fast Food,Chinese'], dtype=object)"
      ]
     },
     "execution_count": 36,
     "metadata": {},
     "output_type": "execute_result"
    }
   ],
   "source": [
    "pd.unique(df_full.Cuisines_enc)"
   ]
  },
  {
   "cell_type": "code",
   "execution_count": 37,
   "metadata": {},
   "outputs": [
    {
     "data": {
      "text/html": [
       "<div>\n",
       "<style scoped>\n",
       "    .dataframe tbody tr th:only-of-type {\n",
       "        vertical-align: middle;\n",
       "    }\n",
       "\n",
       "    .dataframe tbody tr th {\n",
       "        vertical-align: top;\n",
       "    }\n",
       "\n",
       "    .dataframe thead th {\n",
       "        text-align: right;\n",
       "    }\n",
       "</style>\n",
       "<table border=\"1\" class=\"dataframe\">\n",
       "  <thead>\n",
       "    <tr style=\"text-align: right;\">\n",
       "      <th></th>\n",
       "      <th>Average_Cost</th>\n",
       "      <th>Cuisines</th>\n",
       "      <th>Delivery_Time</th>\n",
       "      <th>Location</th>\n",
       "      <th>Minimum_Order</th>\n",
       "      <th>Rating</th>\n",
       "      <th>Restaurant</th>\n",
       "      <th>Reviews</th>\n",
       "      <th>Votes</th>\n",
       "      <th>Restaurant_name</th>\n",
       "      <th>transformed_location</th>\n",
       "      <th>City</th>\n",
       "      <th>Count_cuisins</th>\n",
       "      <th>Cuisines_enc</th>\n",
       "    </tr>\n",
       "  </thead>\n",
       "  <tbody>\n",
       "    <tr>\n",
       "      <td>0</td>\n",
       "      <td>₹200</td>\n",
       "      <td>Fast Food, Rolls, Burger, Salad, Wraps</td>\n",
       "      <td>30 minutes</td>\n",
       "      <td>FTI College, Law College Road, Pune</td>\n",
       "      <td>₹50</td>\n",
       "      <td>3.5</td>\n",
       "      <td>ID_6321</td>\n",
       "      <td>4</td>\n",
       "      <td>12</td>\n",
       "      <td>6321</td>\n",
       "      <td>10</td>\n",
       "      <td>7</td>\n",
       "      <td>5</td>\n",
       "      <td>Rolls,Fast Food,Burger,Wraps,Salad</td>\n",
       "    </tr>\n",
       "    <tr>\n",
       "      <td>1</td>\n",
       "      <td>₹100</td>\n",
       "      <td>Ice Cream, Desserts</td>\n",
       "      <td>30 minutes</td>\n",
       "      <td>Sector 3, Marathalli</td>\n",
       "      <td>₹50</td>\n",
       "      <td>3.5</td>\n",
       "      <td>ID_2882</td>\n",
       "      <td>4</td>\n",
       "      <td>11</td>\n",
       "      <td>2882</td>\n",
       "      <td>30</td>\n",
       "      <td>0</td>\n",
       "      <td>2</td>\n",
       "      <td>Desserts,Ice Cream</td>\n",
       "    </tr>\n",
       "    <tr>\n",
       "      <td>2</td>\n",
       "      <td>₹150</td>\n",
       "      <td>Italian, Street Food, Fast Food</td>\n",
       "      <td>65 minutes</td>\n",
       "      <td>Mumbai Central</td>\n",
       "      <td>₹50</td>\n",
       "      <td>3.6</td>\n",
       "      <td>ID_1595</td>\n",
       "      <td>30</td>\n",
       "      <td>99</td>\n",
       "      <td>1595</td>\n",
       "      <td>19</td>\n",
       "      <td>6</td>\n",
       "      <td>3</td>\n",
       "      <td>Fast Food,Street Food,Italian</td>\n",
       "    </tr>\n",
       "    <tr>\n",
       "      <td>3</td>\n",
       "      <td>₹250</td>\n",
       "      <td>Mughlai, North Indian, Chinese</td>\n",
       "      <td>30 minutes</td>\n",
       "      <td>Sector 1, Noida</td>\n",
       "      <td>₹99</td>\n",
       "      <td>3.7</td>\n",
       "      <td>ID_5929</td>\n",
       "      <td>95</td>\n",
       "      <td>176</td>\n",
       "      <td>5929</td>\n",
       "      <td>28</td>\n",
       "      <td>1</td>\n",
       "      <td>3</td>\n",
       "      <td>Mughlai,Chinese,North Indian</td>\n",
       "    </tr>\n",
       "    <tr>\n",
       "      <td>4</td>\n",
       "      <td>₹200</td>\n",
       "      <td>Cafe, Beverages</td>\n",
       "      <td>65 minutes</td>\n",
       "      <td>Rmz Centennial, I Gate, Whitefield</td>\n",
       "      <td>₹99</td>\n",
       "      <td>3.2</td>\n",
       "      <td>ID_6123</td>\n",
       "      <td>235</td>\n",
       "      <td>521</td>\n",
       "      <td>6123</td>\n",
       "      <td>26</td>\n",
       "      <td>0</td>\n",
       "      <td>2</td>\n",
       "      <td>Beverages,Cafe</td>\n",
       "    </tr>\n",
       "  </tbody>\n",
       "</table>\n",
       "</div>"
      ],
      "text/plain": [
       "  Average_Cost                                Cuisines Delivery_Time  \\\n",
       "0         ₹200  Fast Food, Rolls, Burger, Salad, Wraps    30 minutes   \n",
       "1         ₹100                     Ice Cream, Desserts    30 minutes   \n",
       "2         ₹150         Italian, Street Food, Fast Food    65 minutes   \n",
       "3         ₹250          Mughlai, North Indian, Chinese    30 minutes   \n",
       "4         ₹200                         Cafe, Beverages    65 minutes   \n",
       "\n",
       "                              Location Minimum_Order Rating Restaurant  \\\n",
       "0  FTI College, Law College Road, Pune           ₹50    3.5    ID_6321   \n",
       "1                 Sector 3, Marathalli           ₹50    3.5    ID_2882   \n",
       "2                       Mumbai Central           ₹50    3.6    ID_1595   \n",
       "3                      Sector 1, Noida           ₹99    3.7    ID_5929   \n",
       "4   Rmz Centennial, I Gate, Whitefield           ₹99    3.2    ID_6123   \n",
       "\n",
       "  Reviews Votes Restaurant_name  transformed_location  City  Count_cuisins  \\\n",
       "0       4    12            6321                    10     7              5   \n",
       "1       4    11            2882                    30     0              2   \n",
       "2      30    99            1595                    19     6              3   \n",
       "3      95   176            5929                    28     1              3   \n",
       "4     235   521            6123                    26     0              2   \n",
       "\n",
       "                         Cuisines_enc  \n",
       "0  Rolls,Fast Food,Burger,Wraps,Salad  \n",
       "1                  Desserts,Ice Cream  \n",
       "2       Fast Food,Street Food,Italian  \n",
       "3        Mughlai,Chinese,North Indian  \n",
       "4                      Beverages,Cafe  "
      ]
     },
     "execution_count": 37,
     "metadata": {},
     "output_type": "execute_result"
    }
   ],
   "source": []
  },
  {
   "cell_type": "code",
   "execution_count": null,
   "metadata": {},
   "outputs": [],
   "source": []
  }
 ],
 "metadata": {
  "kernelspec": {
   "display_name": "Python 3",
   "language": "python",
   "name": "python3"
  },
  "language_info": {
   "codemirror_mode": {
    "name": "ipython",
    "version": 3
   },
   "file_extension": ".py",
   "mimetype": "text/x-python",
   "name": "python",
   "nbconvert_exporter": "python",
   "pygments_lexer": "ipython3",
   "version": "3.7.4"
  }
 },
 "nbformat": 4,
 "nbformat_minor": 2
}
